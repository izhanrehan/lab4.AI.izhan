{
 "cells": [
  {
   "cell_type": "code",
   "execution_count": 3,
   "id": "138b546b-45b4-4fe7-913c-958a5b5bde47",
   "metadata": {},
   "outputs": [
    {
     "name": "stdout",
     "output_type": "stream",
     "text": [
      "Predicted Play for Youth/Medium/Fair: Yes\n"
     ]
    },
    {
     "name": "stderr",
     "output_type": "stream",
     "text": [
      "C:\\Users\\ABC\\anaconda3\\Lib\\site-packages\\sklearn\\base.py:439: UserWarning: X does not have valid feature names, but GaussianNB was fitted with feature names\n",
      "  warnings.warn(\n"
     ]
    }
   ],
   "source": [
    "import pandas as pd\n",
    "from sklearn.preprocessing import LabelEncoder\n",
    "from sklearn.naive_bayes import GaussianNB\n",
    "\n",
    "# Sample Data\n",
    "data_2 = {\n",
    "    'Age': ['Youth', 'Youth', 'Medium', 'Medium', 'Youth'],\n",
    "    'Income': ['High', 'Medium', 'Low', 'High', 'Low'],\n",
    "    'Outlook': ['Fair', 'Fair', 'Good', 'Fair', 'Fair'],\n",
    "    'Play': ['Yes', 'Yes', 'No', 'Yes', 'Yes']\n",
    "}\n",
    "\n",
    "# Create DataFrame\n",
    "df_2 = pd.DataFrame(data_2)\n",
    "\n",
    "# Label encoding for categorical variables\n",
    "le_age = LabelEncoder()\n",
    "le_income = LabelEncoder()\n",
    "le_outlook = LabelEncoder()\n",
    "le_play = LabelEncoder()\n",
    "\n",
    "df_2['Age'] = le_age.fit_transform(df_2['Age'])\n",
    "df_2['Income'] = le_income.fit_transform(df_2['Income'])\n",
    "df_2['Outlook'] = le_outlook.fit_transform(df_2['Outlook'])\n",
    "df_2['Play'] = le_play.fit_transform(df_2['Play'])\n",
    "\n",
    "# Features and target variable\n",
    "X_2 = df_2[['Age', 'Income', 'Outlook']]\n",
    "y_2 = df_2['Play']\n",
    "\n",
    "# Train Naïve Bayes classifier\n",
    "nb_2 = GaussianNB()\n",
    "nb_2.fit(X_2, y_2)\n",
    "\n",
    "# Predict for Age = Youth (0), Income = Medium (1), Outlook = Fair (0)\n",
    "predicted_play_2 = nb_2.predict([[le_age.transform(['Youth'])[0], le_income.transform(['Medium'])[0], le_outlook.transform(['Fair'])[0]]])\n",
    "\n",
    "# Convert prediction back to 'Yes'/'No'\n",
    "predicted_play_2 = le_play.inverse_transform(predicted_play_2)\n",
    "print(f'Predicted Play for Youth/Medium/Fair: {predicted_play_2[0]}')\n"
   ]
  },
  {
   "cell_type": "code",
   "execution_count": 5,
   "id": "4ec6ea1f-823e-48ba-812b-253ad281627f",
   "metadata": {},
   "outputs": [
    {
     "name": "stdout",
     "output_type": "stream",
     "text": [
      "Predicted Play: Yes\n"
     ]
    },
    {
     "name": "stderr",
     "output_type": "stream",
     "text": [
      "C:\\Users\\ABC\\anaconda3\\Lib\\site-packages\\sklearn\\base.py:439: UserWarning: X does not have valid feature names, but GaussianNB was fitted with feature names\n",
      "  warnings.warn(\n"
     ]
    }
   ],
   "source": [
    "import pandas as pd\n",
    "from sklearn.naive_bayes import GaussianNB\n",
    "from sklearn.preprocessing import LabelEncoder\n",
    "\n",
    "# Sample Data (Weather, Temperature, Play)\n",
    "data = {\n",
    "    'Weather': ['Sunny', 'Sunny', 'Overcast', 'Rainy', 'Rainy', 'Overcast'],\n",
    "    'Temperature': ['Hot', 'Mild', 'Mild', 'Cool', 'Mild', 'Cool'],\n",
    "    'Play': ['No', 'Yes', 'Yes', 'No', 'Yes', 'Yes']\n",
    "}\n",
    "\n",
    "# Create DataFrame\n",
    "df = pd.DataFrame(data)\n",
    "\n",
    "# Label encoding for categorical variables\n",
    "le_weather = LabelEncoder()\n",
    "le_temperature = LabelEncoder()\n",
    "le_play = LabelEncoder()\n",
    "\n",
    "df['Weather'] = le_weather.fit_transform(df['Weather'])\n",
    "df['Temperature'] = le_temperature.fit_transform(df['Temperature'])\n",
    "df['Play'] = le_play.fit_transform(df['Play'])\n",
    "\n",
    "# Features and target variable\n",
    "X = df[['Weather', 'Temperature']]\n",
    "y = df['Play']\n",
    "\n",
    "# Train Naïve Bayes classifier\n",
    "nb = GaussianNB()\n",
    "nb.fit(X, y)\n",
    "\n",
    "# Predict for Weather = Overcast (1) and Temperature = Mild (1)\n",
    "predicted_play = nb.predict([[le_weather.transform(['Overcast'])[0], le_temperature.transform(['Mild'])[0]]])\n",
    "\n",
    "# Convert prediction back to 'Yes'/'No'\n",
    "predicted_play = le_play.inverse_transform(predicted_play)\n",
    "print(f'Predicted Play: {predicted_play[0]}')\n"
   ]
  },
  {
   "cell_type": "code",
   "execution_count": null,
   "id": "3d494679-cf51-4c85-ae58-71a19a9b28fd",
   "metadata": {},
   "outputs": [],
   "source": []
  }
 ],
 "metadata": {
  "kernelspec": {
   "display_name": "Python 3 (ipykernel)",
   "language": "python",
   "name": "python3"
  },
  "language_info": {
   "codemirror_mode": {
    "name": "ipython",
    "version": 3
   },
   "file_extension": ".py",
   "mimetype": "text/x-python",
   "name": "python",
   "nbconvert_exporter": "python",
   "pygments_lexer": "ipython3",
   "version": "3.11.7"
  }
 },
 "nbformat": 4,
 "nbformat_minor": 5
}
